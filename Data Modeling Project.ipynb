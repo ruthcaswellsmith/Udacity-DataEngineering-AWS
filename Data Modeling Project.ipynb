{
 "cells": [
  {
   "cell_type": "markdown",
   "id": "8be5f887",
   "metadata": {},
   "source": [
    "# Part I. ETL Pipeline for Pre-Processing the Files"
   ]
  },
  {
   "cell_type": "markdown",
   "id": "847c8818",
   "metadata": {},
   "source": [
    "#### Import Python packages "
   ]
  },
  {
   "cell_type": "code",
   "execution_count": null,
   "id": "6fafe17e",
   "metadata": {},
   "outputs": [],
   "source": [
    "# Import Python packages \n",
    "import pandas as pd\n",
    "import cassandra\n",
    "import re\n",
    "import os\n",
    "import glob\n",
    "import numpy as np\n",
    "import json\n",
    "import csv"
   ]
  },
  {
   "cell_type": "markdown",
   "id": "c13d5396",
   "metadata": {},
   "source": [
    "#### Creating list of filepaths to process original event csv data files"
   ]
  },
  {
   "cell_type": "code",
   "execution_count": null,
   "id": "f06acd09",
   "metadata": {},
   "outputs": [],
   "source": [
    "# checking your current working directory\n",
    "print(os.getcwd())\n",
    "\n",
    "# Get your current folder and subfolder event data\n",
    "filepath = os.getcwd() + '/event_data'\n",
    "\n",
    "# Create a for loop to create a list of files and collect each filepath\n",
    "for root, dirs, files in os.walk(filepath):\n",
    "    \n",
    "# join the file path and roots with the subdirectories using glob\n",
    "    file_path_list = glob.glob(os.path.join(root,'*'))\n",
    "    #print(file_path_list)"
   ]
  },
  {
   "cell_type": "markdown",
   "id": "f0293e11",
   "metadata": {},
   "source": [
    "#### Processing the files to create the data file csv that will be used for Apache Casssandra tables"
   ]
  },
  {
   "cell_type": "code",
   "execution_count": null,
   "id": "8015b2b6",
   "metadata": {},
   "outputs": [],
   "source": [
    "# initiating an empty list of rows that will be generated from each file\n",
    "full_data_rows_list = [] \n",
    "    \n",
    "# for every filepath in the file path list \n",
    "for f in file_path_list:\n",
    "\n",
    "# reading csv file \n",
    "    with open(f, 'r', encoding = 'utf8', newline='') as csvfile: \n",
    "        # creating a csv reader object \n",
    "        csvreader = csv.reader(csvfile) \n",
    "        next(csvreader)\n",
    "        \n",
    " # extracting each data row one by one and append it        \n",
    "        for line in csvreader:\n",
    "            #print(line)\n",
    "            full_data_rows_list.append(line) \n",
    "            \n",
    "# uncomment the code below if you would like to get total number of rows \n",
    "print(len(full_data_rows_list))\n",
    "# uncomment the code below if you would like to check to see what the list of event data rows will look like\n",
    "#print(full_data_rows_list)\n",
    "\n",
    "# creating a smaller event data csv file called event_datafile_full csv that will be used to insert data into the \\\n",
    "# Apache Cassandra tables\n",
    "csv.register_dialect('myDialect', quoting=csv.QUOTE_ALL, skipinitialspace=True)\n",
    "\n",
    "with open('event_datafile_new.csv', 'w', encoding = 'utf8', newline='') as f:\n",
    "    writer = csv.writer(f, dialect='myDialect')\n",
    "    writer.writerow(['artist','firstName','gender','itemInSession','lastName','length',\\\n",
    "                'level','location','sessionId','song','userId'])\n",
    "    for row in full_data_rows_list:\n",
    "        if (row[0] == ''):\n",
    "            continue\n",
    "        writer.writerow((row[0], row[2], row[3], row[4], row[5], row[6], row[7], row[8], row[12], row[13], row[16]))\n"
   ]
  },
  {
   "cell_type": "code",
   "execution_count": null,
   "id": "3fd8f77a",
   "metadata": {},
   "outputs": [],
   "source": [
    "# check the number of rows in your csv file\n",
    "with open('event_datafile_new.csv', 'r', encoding = 'utf8') as f:\n",
    "    print(sum(1 for line in f))"
   ]
  },
  {
   "cell_type": "markdown",
   "id": "0dd15fd5",
   "metadata": {},
   "source": [
    "# Part II. Apache Cassandra coding portion of your project. \n",
    "\n",
    "The image below is a screenshot of what the denormalized data should appear like in the <font color=red>**event_datafile_new.csv**</font> after the code above is run:<br>\n",
    "\n",
    "<img src=\"images/image_event_datafile_new.jpg\">"
   ]
  },
  {
   "cell_type": "markdown",
   "id": "bc722261",
   "metadata": {},
   "source": [
    "#### Creating a Cluster"
   ]
  },
  {
   "cell_type": "code",
   "execution_count": null,
   "id": "3185395d",
   "metadata": {},
   "outputs": [],
   "source": [
    "# This should make a connection to a Cassandra instance your local machine \n",
    "# (127.0.0.1)\n",
    "\n",
    "from cassandra.cluster import Cluster\n",
    "cluster = Cluster()\n",
    "\n",
    "# To establish connection and begin executing queries, need a session\n",
    "session = cluster.connect()"
   ]
  },
  {
   "cell_type": "markdown",
   "id": "988be774",
   "metadata": {},
   "source": [
    "#### Create Keyspace"
   ]
  },
  {
   "cell_type": "code",
   "execution_count": null,
   "id": "430054dc",
   "metadata": {},
   "outputs": [],
   "source": [
    "# TO-DO: Create a Keyspace \n",
    "try:\n",
    "    session.execute(\"\"\"\n",
    "    CREATE KEYSPACE IF NOT EXISTS data_modeling_project \n",
    "    WITH REPLICATION = \n",
    "    { 'class' : 'SimpleStrategy', 'replication_factor' : 1 }\"\"\"\n",
    ")\n",
    "\n",
    "except Exception as e:\n",
    "    print(e)"
   ]
  },
  {
   "cell_type": "markdown",
   "id": "24dce80c",
   "metadata": {},
   "source": [
    "#### Set Keyspace"
   ]
  },
  {
   "cell_type": "code",
   "execution_count": null,
   "id": "dcb77534",
   "metadata": {},
   "outputs": [],
   "source": [
    "# TO-DO: Set KEYSPACE to the keyspace specified above\n",
    "try:\n",
    "    session.set_keyspace('data_modeling_project')\n",
    "except Exception as e:\n",
    "    print(e)"
   ]
  },
  {
   "cell_type": "markdown",
   "id": "da516272",
   "metadata": {},
   "source": [
    "#### Read CSV file into a dataframe"
   ]
  },
  {
   "cell_type": "code",
   "execution_count": null,
   "id": "9b054473",
   "metadata": {},
   "outputs": [],
   "source": [
    "data = pd.read_csv('event_datafile_new.csv')\n",
    "data.columns"
   ]
  },
  {
   "cell_type": "markdown",
   "id": "e531532c",
   "metadata": {},
   "source": [
    "#### Create pandas factory for converting Cassandra query results to df"
   ]
  },
  {
   "cell_type": "code",
   "execution_count": null,
   "id": "151e55d9",
   "metadata": {},
   "outputs": [],
   "source": [
    "# Note I was trying to figure out a simple way to convert Cassandra query results to a dataframe and \n",
    "# found this on StackOverflow so I am attributing this\n",
    "#https://stackoverflow.com/questions/41247345/python-read-cassandra-data-into-pandas\n",
    "# This is the only thing I looked up during this project. It's pretty slick. \n",
    "    \n",
    "def pandas_factory(colnames, rows):\n",
    "    return pd.DataFrame(rows, columns=colnames)\n",
    "\n",
    "session.row_factory = pandas_factory"
   ]
  },
  {
   "cell_type": "markdown",
   "id": "c4454bc2",
   "metadata": {},
   "source": [
    "# Query 1\n",
    "Give me the artist, song title and song's length in the music app history that was heard during sessionId = 338, and itemInSession = 4\n",
    "\n"
   ]
  },
  {
   "cell_type": "markdown",
   "id": "adf809af",
   "metadata": {},
   "source": [
    "#### Create Table"
   ]
  },
  {
   "cell_type": "code",
   "execution_count": null,
   "id": "4d6a2b21",
   "metadata": {},
   "outputs": [],
   "source": [
    "# For this query I'll create a table with a composite key of sessionId and itemInSession\n",
    "# Note I am not choosing to store all the data in this table but you could easily add the \n",
    "# other attributes\n",
    "\n",
    "table_name = 'songs_by_session'\n",
    "\n",
    "try:\n",
    "    session.execute(f'drop table {table_name}')\n",
    "except Exception as e:\n",
    "    pass\n",
    "\n",
    "query = f\"create table if not exists {table_name} \\\n",
    "    (sessionId int, itemInSession int, artist varchar, song varchar, length float, \\\n",
    "    PRIMARY KEY (sessionId, itemInSession))\"\n",
    "\n",
    "try:\n",
    "    session.execute(query) \n",
    "    print(f'Table {table_name} successfully created')\n",
    "except Exception as e:\n",
    "    print(e)"
   ]
  },
  {
   "cell_type": "markdown",
   "id": "a9246f0b",
   "metadata": {},
   "source": [
    "#### Insert Data"
   ]
  },
  {
   "cell_type": "code",
   "execution_count": null,
   "id": "3bfc37f6",
   "metadata": {},
   "outputs": [],
   "source": [
    "query = f\"INSERT INTO {table_name} \\\n",
    "        (sessionId, itemInSession, artist, song, length) \\\n",
    "        VALUES (%s, %s, %s, %s, %s)\"\n",
    "\n",
    "for row in data.itertuples():\n",
    "        try:\n",
    "            session.execute(query, (int(row.sessionId), \n",
    "                                    int(row.itemInSession), \n",
    "                                    row.artist, \n",
    "                                    row.song, \n",
    "                                    float(row.length)))\n",
    "        except Exception as e:\n",
    "            print(e)    "
   ]
  },
  {
   "cell_type": "markdown",
   "id": "19304a25",
   "metadata": {},
   "source": [
    "#### Select our results"
   ]
  },
  {
   "cell_type": "code",
   "execution_count": null,
   "id": "f77e6fd2",
   "metadata": {
    "scrolled": true
   },
   "outputs": [],
   "source": [
    "session_id = 338\n",
    "item_id = 4\n",
    "\n",
    "query = f'select artist, song, length from {table_name} where \\\n",
    "sessionId = {session_id} and itemInSession = {item_id}'\n",
    "\n",
    "try:\n",
    "    rows = session.execute(query)\n",
    "except Exception as e:    \n",
    "    print(e)\n",
    "\n",
    "rows._current_rows"
   ]
  },
  {
   "cell_type": "markdown",
   "id": "00f0b981",
   "metadata": {},
   "source": [
    "# Query 2\n",
    "Give me only the following: name of artist, song (sorted by itemInSession) and user (first and last name) for userid = 10, sessionid = 182"
   ]
  },
  {
   "cell_type": "markdown",
   "id": "4863717b",
   "metadata": {},
   "source": [
    "#### Create Table"
   ]
  },
  {
   "cell_type": "code",
   "execution_count": null,
   "id": "dae01a1b",
   "metadata": {},
   "outputs": [],
   "source": [
    "# For this query we'll create a table with a composite key of sessionId, userId, and itemInSession\n",
    "# Note I am not choosing to store all the data in this table but you could easily add the \n",
    "# other attributes\n",
    "\n",
    "table_name = 'songs_by_session_and_user'\n",
    "\n",
    "try:\n",
    "    session.execute(f'drop table {table_name}')\n",
    "except Exception as e:\n",
    "    pass\n",
    "\n",
    "query = f\"create table if not exists {table_name} \\\n",
    "    (sessionId int, userId int, itemInSession int,artist varchar, song varchar, user varchar, \\\n",
    "    PRIMARY KEY (sessionId, userId, itemInSession))\"\n",
    "\n",
    "try:\n",
    "    session.execute(query) \n",
    "    print(f'Table {table_name} successfully created')\n",
    "except Exception as e:\n",
    "    print(e)\n",
    "                        "
   ]
  },
  {
   "cell_type": "markdown",
   "id": "6c3e1997",
   "metadata": {},
   "source": [
    "#### Insert Data"
   ]
  },
  {
   "cell_type": "code",
   "execution_count": null,
   "id": "5f090b06",
   "metadata": {},
   "outputs": [],
   "source": [
    "query = f\"INSERT INTO {table_name} \\\n",
    "        (sessionId, userId, itemInSession, artist, song, user) \\\n",
    "        VALUES (%s, %s, %s, %s, %s, %s)\"\n",
    "\n",
    "for row in data.itertuples():\n",
    "        try:\n",
    "            session.execute(query, (int(row.sessionId),\n",
    "                                    int(row.userId),\n",
    "                                    int(row.itemInSession), \n",
    "                                    row.artist, \n",
    "                                    row.song, \n",
    "                                    row.firstName + \" \" + row.lastName))\n",
    "        except Exception as e:\n",
    "            print(e)    \n",
    "            "
   ]
  },
  {
   "cell_type": "markdown",
   "id": "401fb29d",
   "metadata": {},
   "source": [
    "#### Select our results"
   ]
  },
  {
   "cell_type": "code",
   "execution_count": null,
   "id": "4618af58",
   "metadata": {},
   "outputs": [],
   "source": [
    "user_id=10\n",
    "session_id=182\n",
    "\n",
    "query = f\"select artist, song, user from {table_name} where \\\n",
    "    userId={user_id} and sessionId={session_id}\"\n",
    "\n",
    "try:\n",
    "    rows = session.execute(query)\n",
    "except Exception as e:\n",
    "    print(e)\n",
    "    \n",
    "rows._current_rows"
   ]
  },
  {
   "cell_type": "markdown",
   "id": "8fbc716d",
   "metadata": {},
   "source": [
    "### Query 3\n",
    "Give me every user name (first and last) in my music app history who listened to the song 'All Hands Against His Own'"
   ]
  },
  {
   "cell_type": "markdown",
   "id": "4df19fb5",
   "metadata": {},
   "source": [
    "#### Create Table"
   ]
  },
  {
   "cell_type": "code",
   "execution_count": null,
   "id": "3d9eccc6",
   "metadata": {},
   "outputs": [],
   "source": [
    "# For this query we'll create a table with a composite key of songtitle and userId . Note we\n",
    "# need userID to make primary key unique since multiple users can listen to the same song.\n",
    "# also note the same user could listen to the same song in multiple sessions, but since we don't \n",
    "# care about that we can choose to just have a primary key on these two fields.  Otherwise\n",
    "# we could get duplicates in our query.  \n",
    "# Also note I am choosing to store minimum data that we need for this query.  In reality I \n",
    "# would probabably store more attributes - better to have them then have to add them later.\n",
    "\n",
    "table_name = 'songs_by_title'\n",
    "\n",
    "try:\n",
    "    session.execute(f'drop table {table_name}')\n",
    "except Exception as e:\n",
    "    pass\n",
    "\n",
    "query = f\"create table if not exists {table_name} \\\n",
    "    (song varchar, userId int, user varchar, \\\n",
    "    PRIMARY KEY (song, userId))\"\n",
    "\n",
    "try:\n",
    "    session.execute(query) \n",
    "    print(f'Table {table_name} successfully created')\n",
    "except Exception as e:\n",
    "    print(e)\n"
   ]
  },
  {
   "cell_type": "markdown",
   "id": "66a73d77",
   "metadata": {},
   "source": [
    "#### Insert Data"
   ]
  },
  {
   "cell_type": "code",
   "execution_count": null,
   "id": "9b85dfd5",
   "metadata": {},
   "outputs": [],
   "source": [
    "query = f\"INSERT INTO {table_name} \\\n",
    "        (song, userId, user) \\\n",
    "        VALUES (%s, %s, %s)\"\n",
    "\n",
    "for row in data.itertuples():\n",
    "        try:\n",
    "            session.execute(query, (row.song,\n",
    "                                    int(row.userId),\n",
    "                                    row.firstName + \" \" + row.lastName))\n",
    "        except Exception as e:\n",
    "            print(e)    "
   ]
  },
  {
   "cell_type": "markdown",
   "id": "55dcb1d4",
   "metadata": {},
   "source": [
    "#### Select our results"
   ]
  },
  {
   "cell_type": "code",
   "execution_count": null,
   "id": "b90dc2ff",
   "metadata": {},
   "outputs": [],
   "source": [
    "query = f\"select user from {table_name} where song='All Hands Against His Own'\"\n",
    "\n",
    "try:\n",
    "    rows = session.execute(query)\n",
    "except Exception as e:\n",
    "    print(e)\n",
    "    \n",
    "rows._current_rows"
   ]
  },
  {
   "cell_type": "markdown",
   "id": "69de2061",
   "metadata": {},
   "source": [
    "### Drop the tables before closing out the sessions"
   ]
  },
  {
   "cell_type": "code",
   "execution_count": null,
   "id": "164af000",
   "metadata": {},
   "outputs": [],
   "source": [
    "tables = ['songs_by_session', 'songs_by_session_and_user', 'songs_by_title']\n",
    "for table in tables:\n",
    "    try:\n",
    "        session.execute(f'drop table {table}')\n",
    "        print(f'Dropped table {table}')\n",
    "    except Exception as e:\n",
    "        print(e)"
   ]
  },
  {
   "cell_type": "markdown",
   "id": "5c5f0ddf",
   "metadata": {},
   "source": [
    "### Close the session and cluster connection¶"
   ]
  },
  {
   "cell_type": "code",
   "execution_count": null,
   "id": "610e3160",
   "metadata": {},
   "outputs": [],
   "source": [
    "session.shutdown()\n",
    "cluster.shutdown()"
   ]
  },
  {
   "cell_type": "code",
   "execution_count": null,
   "id": "f1b383d9",
   "metadata": {},
   "outputs": [],
   "source": []
  },
  {
   "cell_type": "code",
   "execution_count": null,
   "id": "069fb837",
   "metadata": {},
   "outputs": [],
   "source": []
  },
  {
   "cell_type": "markdown",
   "id": "be02db3f",
   "metadata": {},
   "source": [
    "# Part I. ETL Pipeline for Pre-Processing the Files"
   ]
  },
  {
   "cell_type": "markdown",
   "id": "91aed7ee",
   "metadata": {},
   "source": [
    "#### Import Python packages "
   ]
  },
  {
   "cell_type": "code",
   "execution_count": null,
   "id": "ee3115e2",
   "metadata": {},
   "outputs": [],
   "source": [
    "# Import Python packages \n",
    "import pandas as pd\n",
    "import cassandra\n",
    "import re\n",
    "import os\n",
    "import glob\n",
    "import numpy as np\n",
    "import json\n",
    "import csv"
   ]
  },
  {
   "cell_type": "markdown",
   "id": "be0f31ce",
   "metadata": {},
   "source": [
    "#### Creating list of filepaths to process original event csv data files"
   ]
  },
  {
   "cell_type": "code",
   "execution_count": null,
   "id": "f56e99d7",
   "metadata": {},
   "outputs": [],
   "source": [
    "# checking your current working directory\n",
    "print(os.getcwd())\n",
    "\n",
    "# Get your current folder and subfolder event data\n",
    "filepath = os.getcwd() + '/event_data'\n",
    "\n",
    "# Create a for loop to create a list of files and collect each filepath\n",
    "for root, dirs, files in os.walk(filepath):\n",
    "    \n",
    "# join the file path and roots with the subdirectories using glob\n",
    "    file_path_list = glob.glob(os.path.join(root,'*'))\n",
    "    #print(file_path_list)"
   ]
  },
  {
   "cell_type": "markdown",
   "id": "5bce6c38",
   "metadata": {},
   "source": [
    "#### Processing the files to create the data file csv that will be used for Apache Casssandra tables"
   ]
  },
  {
   "cell_type": "code",
   "execution_count": null,
   "id": "033f92e7",
   "metadata": {},
   "outputs": [],
   "source": [
    "# initiating an empty list of rows that will be generated from each file\n",
    "full_data_rows_list = [] \n",
    "    \n",
    "# for every filepath in the file path list \n",
    "for f in file_path_list:\n",
    "\n",
    "# reading csv file \n",
    "    with open(f, 'r', encoding = 'utf8', newline='') as csvfile: \n",
    "        # creating a csv reader object \n",
    "        csvreader = csv.reader(csvfile) \n",
    "        next(csvreader)\n",
    "        \n",
    " # extracting each data row one by one and append it        \n",
    "        for line in csvreader:\n",
    "            #print(line)\n",
    "            full_data_rows_list.append(line) \n",
    "            \n",
    "# uncomment the code below if you would like to get total number of rows \n",
    "print(len(full_data_rows_list))\n",
    "# uncomment the code below if you would like to check to see what the list of event data rows will look like\n",
    "#print(full_data_rows_list)\n",
    "\n",
    "# creating a smaller event data csv file called event_datafile_full csv that will be used to insert data into the \\\n",
    "# Apache Cassandra tables\n",
    "csv.register_dialect('myDialect', quoting=csv.QUOTE_ALL, skipinitialspace=True)\n",
    "\n",
    "with open('event_datafile_new.csv', 'w', encoding = 'utf8', newline='') as f:\n",
    "    writer = csv.writer(f, dialect='myDialect')\n",
    "    writer.writerow(['artist','firstName','gender','itemInSession','lastName','length',\\\n",
    "                'level','location','sessionId','song','userId'])\n",
    "    for row in full_data_rows_list:\n",
    "        if (row[0] == ''):\n",
    "            continue\n",
    "        writer.writerow((row[0], row[2], row[3], row[4], row[5], row[6], row[7], row[8], row[12], row[13], row[16]))\n"
   ]
  },
  {
   "cell_type": "code",
   "execution_count": null,
   "id": "9f18d49d",
   "metadata": {},
   "outputs": [],
   "source": [
    "# check the number of rows in your csv file\n",
    "with open('event_datafile_new.csv', 'r', encoding = 'utf8') as f:\n",
    "    print(sum(1 for line in f))"
   ]
  },
  {
   "cell_type": "markdown",
   "id": "bbb1677b",
   "metadata": {},
   "source": [
    "# Part II. Apache Cassandra coding portion of your project. \n",
    "\n",
    "The image below is a screenshot of what the denormalized data should appear like in the <font color=red>**event_datafile_new.csv**</font> after the code above is run:<br>\n",
    "\n",
    "<img src=\"images/image_event_datafile_new.jpg\">"
   ]
  },
  {
   "cell_type": "markdown",
   "id": "96b38c65",
   "metadata": {},
   "source": [
    "#### Creating a Cluster"
   ]
  },
  {
   "cell_type": "code",
   "execution_count": null,
   "id": "e3a3782b",
   "metadata": {},
   "outputs": [],
   "source": [
    "# This should make a connection to a Cassandra instance your local machine \n",
    "# (127.0.0.1)\n",
    "\n",
    "from cassandra.cluster import Cluster\n",
    "cluster = Cluster()\n",
    "\n",
    "# To establish connection and begin executing queries, need a session\n",
    "session = cluster.connect()"
   ]
  },
  {
   "cell_type": "markdown",
   "id": "d3ee8b35",
   "metadata": {},
   "source": [
    "#### Create Keyspace"
   ]
  },
  {
   "cell_type": "code",
   "execution_count": null,
   "id": "c0450034",
   "metadata": {},
   "outputs": [],
   "source": [
    "# TO-DO: Create a Keyspace \n",
    "try:\n",
    "    session.execute(\"\"\"\n",
    "    CREATE KEYSPACE IF NOT EXISTS data_modeling_project \n",
    "    WITH REPLICATION = \n",
    "    { 'class' : 'SimpleStrategy', 'replication_factor' : 1 }\"\"\"\n",
    ")\n",
    "\n",
    "except Exception as e:\n",
    "    print(e)"
   ]
  },
  {
   "cell_type": "markdown",
   "id": "307b0e9b",
   "metadata": {},
   "source": [
    "#### Set Keyspace"
   ]
  },
  {
   "cell_type": "code",
   "execution_count": null,
   "id": "0553a7ac",
   "metadata": {},
   "outputs": [],
   "source": [
    "# TO-DO: Set KEYSPACE to the keyspace specified above\n",
    "try:\n",
    "    session.set_keyspace('data_modeling_project')\n",
    "except Exception as e:\n",
    "    print(e)"
   ]
  },
  {
   "cell_type": "markdown",
   "id": "a2eea3b9",
   "metadata": {},
   "source": [
    "#### Read CSV file into a dataframe"
   ]
  },
  {
   "cell_type": "code",
   "execution_count": null,
   "id": "a14a84d4",
   "metadata": {},
   "outputs": [],
   "source": [
    "data = pd.read_csv('event_datafile_new.csv')\n",
    "data.columns"
   ]
  },
  {
   "cell_type": "markdown",
   "id": "5b34aa3f",
   "metadata": {},
   "source": [
    "#### Create pandas factory for converting Cassandra query results to df"
   ]
  },
  {
   "cell_type": "code",
   "execution_count": null,
   "id": "dc291433",
   "metadata": {},
   "outputs": [],
   "source": [
    "# Note I was trying to figure out a simple way to convert Cassandra query results to a dataframe and \n",
    "# found this on StackOverflow so I am attributing this\n",
    "#https://stackoverflow.com/questions/41247345/python-read-cassandra-data-into-pandas\n",
    "# This is the only thing I looked up during this project. It's pretty slick. \n",
    "    \n",
    "def pandas_factory(colnames, rows):\n",
    "    return pd.DataFrame(rows, columns=colnames)\n",
    "\n",
    "session.row_factory = pandas_factory"
   ]
  },
  {
   "cell_type": "markdown",
   "id": "47e6b792",
   "metadata": {},
   "source": [
    "# Query 1\n",
    "Give me the artist, song title and song's length in the music app history that was heard during sessionId = 338, and itemInSession = 4\n",
    "\n"
   ]
  },
  {
   "cell_type": "markdown",
   "id": "abef55b4",
   "metadata": {},
   "source": [
    "#### Create Table"
   ]
  },
  {
   "cell_type": "code",
   "execution_count": null,
   "id": "f5beec7d",
   "metadata": {},
   "outputs": [],
   "source": [
    "# For this query I'll create a table with a composite key of sessionId and itemInSession\n",
    "# Note I am not choosing to store all the data in this table but you could easily add the \n",
    "# other attributes\n",
    "\n",
    "table_name = 'songs_by_session'\n",
    "\n",
    "try:\n",
    "    session.execute(f'drop table {table_name}')\n",
    "except Exception as e:\n",
    "    pass\n",
    "\n",
    "query = f\"create table if not exists {table_name} \\\n",
    "    (sessionId int, itemInSession int, artist varchar, song varchar, length float, \\\n",
    "    PRIMARY KEY (sessionId, itemInSession))\"\n",
    "\n",
    "try:\n",
    "    session.execute(query) \n",
    "    print(f'Table {table_name} successfully created')\n",
    "except Exception as e:\n",
    "    print(e)"
   ]
  },
  {
   "cell_type": "markdown",
   "id": "4f78804b",
   "metadata": {},
   "source": [
    "#### Insert Data"
   ]
  },
  {
   "cell_type": "code",
   "execution_count": null,
   "id": "98e2d3e2",
   "metadata": {},
   "outputs": [],
   "source": [
    "query = f\"INSERT INTO {table_name} \\\n",
    "        (sessionId, itemInSession, artist, song, length) \\\n",
    "        VALUES (%s, %s, %s, %s, %s)\"\n",
    "\n",
    "for row in data.itertuples():\n",
    "        try:\n",
    "            session.execute(query, (int(row.sessionId), \n",
    "                                    int(row.itemInSession), \n",
    "                                    row.artist, \n",
    "                                    row.song, \n",
    "                                    float(row.length)))\n",
    "        except Exception as e:\n",
    "            print(e)    "
   ]
  },
  {
   "cell_type": "markdown",
   "id": "e4860eb7",
   "metadata": {},
   "source": [
    "#### Select our results"
   ]
  },
  {
   "cell_type": "code",
   "execution_count": null,
   "id": "2e9c6f97",
   "metadata": {
    "scrolled": true
   },
   "outputs": [],
   "source": [
    "session_id = 338\n",
    "item_id = 4\n",
    "\n",
    "query = f'select artist, song, length from {table_name} where \\\n",
    "sessionId = {session_id} and itemInSession = {item_id}'\n",
    "\n",
    "try:\n",
    "    rows = session.execute(query)\n",
    "except Exception as e:    \n",
    "    print(e)\n",
    "\n",
    "rows._current_rows"
   ]
  },
  {
   "cell_type": "markdown",
   "id": "d9a3bb96",
   "metadata": {},
   "source": [
    "# Query 2\n",
    "Give me only the following: name of artist, song (sorted by itemInSession) and user (first and last name) for userid = 10, sessionid = 182"
   ]
  },
  {
   "cell_type": "markdown",
   "id": "ff0114b2",
   "metadata": {},
   "source": [
    "#### Create Table"
   ]
  },
  {
   "cell_type": "code",
   "execution_count": null,
   "id": "cb1e0d6b",
   "metadata": {},
   "outputs": [],
   "source": [
    "# For this query we'll create a table with a composite key of sessionId, userId, and itemInSession\n",
    "# Note I am not choosing to store all the data in this table but you could easily add the \n",
    "# other attributes\n",
    "\n",
    "table_name = 'songs_by_session_and_user'\n",
    "\n",
    "try:\n",
    "    session.execute(f'drop table {table_name}')\n",
    "except Exception as e:\n",
    "    pass\n",
    "\n",
    "query = f\"create table if not exists {table_name} \\\n",
    "    (sessionId int, userId int, itemInSession int,artist varchar, song varchar, user varchar, \\\n",
    "    PRIMARY KEY (sessionId, userId, itemInSession))\"\n",
    "\n",
    "try:\n",
    "    session.execute(query) \n",
    "    print(f'Table {table_name} successfully created')\n",
    "except Exception as e:\n",
    "    print(e)\n",
    "                        "
   ]
  },
  {
   "cell_type": "markdown",
   "id": "355b2141",
   "metadata": {},
   "source": [
    "#### Insert Data"
   ]
  },
  {
   "cell_type": "code",
   "execution_count": null,
   "id": "2e6b6572",
   "metadata": {},
   "outputs": [],
   "source": [
    "query = f\"INSERT INTO {table_name} \\\n",
    "        (sessionId, userId, itemInSession, artist, song, user) \\\n",
    "        VALUES (%s, %s, %s, %s, %s, %s)\"\n",
    "\n",
    "for row in data.itertuples():\n",
    "        try:\n",
    "            session.execute(query, (int(row.sessionId),\n",
    "                                    int(row.userId),\n",
    "                                    int(row.itemInSession), \n",
    "                                    row.artist, \n",
    "                                    row.song, \n",
    "                                    row.firstName + \" \" + row.lastName))\n",
    "        except Exception as e:\n",
    "            print(e)    \n",
    "            "
   ]
  },
  {
   "cell_type": "markdown",
   "id": "88eac1cc",
   "metadata": {},
   "source": [
    "#### Select our results"
   ]
  },
  {
   "cell_type": "code",
   "execution_count": null,
   "id": "7a4110df",
   "metadata": {},
   "outputs": [],
   "source": [
    "user_id=10\n",
    "session_id=182\n",
    "\n",
    "query = f\"select artist, song, user from {table_name} where \\\n",
    "    userId={user_id} and sessionId={session_id}\"\n",
    "\n",
    "try:\n",
    "    rows = session.execute(query)\n",
    "except Exception as e:\n",
    "    print(e)\n",
    "    \n",
    "rows._current_rows"
   ]
  },
  {
   "cell_type": "markdown",
   "id": "d155db0b",
   "metadata": {},
   "source": [
    "### Query 3\n",
    "Give me every user name (first and last) in my music app history who listened to the song 'All Hands Against His Own'"
   ]
  },
  {
   "cell_type": "markdown",
   "id": "d03fbf37",
   "metadata": {},
   "source": [
    "#### Create Table"
   ]
  },
  {
   "cell_type": "code",
   "execution_count": null,
   "id": "6af8d2c7",
   "metadata": {},
   "outputs": [],
   "source": [
    "# For this query we'll create a table with a composite key of songtitle and userId . Note we\n",
    "# need userID to make primary key unique since multiple users can listen to the same song.\n",
    "# also note the same user could listen to the same song in multiple sessions, but since we don't \n",
    "# care about that we can choose to just have a primary key on these two fields.  Otherwise\n",
    "# we could get duplicates in our query.  \n",
    "# Also note I am choosing to store minimum data that we need for this query.  In reality I \n",
    "# would probabably store more attributes - better to have them then have to add them later.\n",
    "\n",
    "table_name = 'songs_by_title'\n",
    "\n",
    "try:\n",
    "    session.execute(f'drop table {table_name}')\n",
    "except Exception as e:\n",
    "    pass\n",
    "\n",
    "query = f\"create table if not exists {table_name} \\\n",
    "    (song varchar, userId int, user varchar, \\\n",
    "    PRIMARY KEY (song, userId))\"\n",
    "\n",
    "try:\n",
    "    session.execute(query) \n",
    "    print(f'Table {table_name} successfully created')\n",
    "except Exception as e:\n",
    "    print(e)\n"
   ]
  },
  {
   "cell_type": "markdown",
   "id": "39207fae",
   "metadata": {},
   "source": [
    "#### Insert Data"
   ]
  },
  {
   "cell_type": "code",
   "execution_count": null,
   "id": "267b1ac3",
   "metadata": {},
   "outputs": [],
   "source": [
    "query = f\"INSERT INTO {table_name} \\\n",
    "        (song, userId, user) \\\n",
    "        VALUES (%s, %s, %s)\"\n",
    "\n",
    "for row in data.itertuples():\n",
    "        try:\n",
    "            session.execute(query, (row.song,\n",
    "                                    int(row.userId),\n",
    "                                    row.firstName + \" \" + row.lastName))\n",
    "        except Exception as e:\n",
    "            print(e)    "
   ]
  },
  {
   "cell_type": "markdown",
   "id": "7456048f",
   "metadata": {},
   "source": [
    "#### Select our results"
   ]
  },
  {
   "cell_type": "code",
   "execution_count": null,
   "id": "6a2c28b1",
   "metadata": {},
   "outputs": [],
   "source": [
    "query = f\"select user from {table_name} where song='All Hands Against His Own'\"\n",
    "\n",
    "try:\n",
    "    rows = session.execute(query)\n",
    "except Exception as e:\n",
    "    print(e)\n",
    "    \n",
    "rows._current_rows"
   ]
  },
  {
   "cell_type": "markdown",
   "id": "07eff75f",
   "metadata": {},
   "source": [
    "### Drop the tables before closing out the sessions"
   ]
  },
  {
   "cell_type": "code",
   "execution_count": null,
   "id": "9e9a328e",
   "metadata": {},
   "outputs": [],
   "source": [
    "tables = ['songs_by_session', 'songs_by_session_and_user', 'songs_by_title']\n",
    "for table in tables:\n",
    "    try:\n",
    "        session.execute(f'drop table {table}')\n",
    "        print(f'Dropped table {table}')\n",
    "    except Exception as e:\n",
    "        print(e)"
   ]
  },
  {
   "cell_type": "markdown",
   "id": "23af28ca",
   "metadata": {},
   "source": [
    "### Close the session and cluster connection¶"
   ]
  },
  {
   "cell_type": "code",
   "execution_count": null,
   "id": "be5a2bfc",
   "metadata": {},
   "outputs": [],
   "source": [
    "session.shutdown()\n",
    "cluster.shutdown()"
   ]
  },
  {
   "cell_type": "code",
   "execution_count": null,
   "id": "c494aff7",
   "metadata": {},
   "outputs": [],
   "source": []
  },
  {
   "cell_type": "code",
   "execution_count": null,
   "id": "94fd7eb6",
   "metadata": {},
   "outputs": [],
   "source": []
  },
  {
   "cell_type": "code",
   "execution_count": null,
   "id": "48861e40",
   "metadata": {},
   "outputs": [],
   "source": []
  }
 ],
 "metadata": {
  "kernelspec": {
   "display_name": "Python 3 (ipykernel)",
   "language": "python",
   "name": "python3"
  },
  "language_info": {
   "codemirror_mode": {
    "name": "ipython",
    "version": 3
   },
   "file_extension": ".py",
   "mimetype": "text/x-python",
   "name": "python",
   "nbconvert_exporter": "python",
   "pygments_lexer": "ipython3",
   "version": "3.9.13"
  }
 },
 "nbformat": 4,
 "nbformat_minor": 5
}
